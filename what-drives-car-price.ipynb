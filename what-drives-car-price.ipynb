{
 "cells": [
  {
   "cell_type": "markdown",
   "metadata": {},
   "source": [
    "# What drives the price of a car?\n",
    "\n",
    "![](images/kurt.jpeg)"
   ]
  },
  {
   "cell_type": "markdown",
   "metadata": {},
   "source": [
    "**OVERVIEW**\n",
    "\n",
    "In this application, you will explore a dataset from kaggle. The original dataset contained information on 3 million used cars. The provided dataset contains information on 426K cars to ensure speed of processing.  Your goal is to understand what factors make a car more or less expensive.  As a result of your analysis, you should provide clear recommendations to your client -- a used car dealership -- as to what consumers value in a used car."
   ]
  },
  {
   "cell_type": "markdown",
   "metadata": {},
   "source": [
    "### CRISP-DM Framework\n",
    "\n",
    "<center>\n",
    "    <img src = images/crisp.png width = 50%/>\n",
    "</center>\n",
    "\n",
    "\n",
    "To frame the task, throughout our practical applications we will refer back to a standard process in industry for data projects called CRISP-DM.  This process provides a framework for working through a data problem.  Your first step in this application will be to read through a brief overview of CRISP-DM [here](https://mo-pcco.s3.us-east-1.amazonaws.com/BH-PCMLAI/module_11/readings_starter.zip).  After reading the overview, answer the questions below."
   ]
  },
  {
   "cell_type": "markdown",
   "metadata": {},
   "source": [
    "### Business Understanding\n",
    "\n",
    "From a business perspective, we are tasked with identifying key drivers for used car prices.  In the CRISP-DM overview, we are asked to convert this business framing to a data problem definition.  Using a few sentences, reframe the task as a data task with the appropriate technical vocabulary. "
   ]
  },
  {
   "cell_type": "code",
   "execution_count": null,
   "metadata": {},
   "outputs": [],
   "source": []
  },
  {
   "cell_type": "markdown",
   "metadata": {},
   "source": [
    "The objective is to understand, analyze the given used car dataset and develop a predictive machine learning model to identify the features of the car which has high impact on its price. Each feature will be evaluated for their influence on the car price by applying different regression models. After all analysis, aim is provided list of features which has positive/negative impact on car price."
   ]
  },
  {
   "cell_type": "code",
   "execution_count": null,
   "metadata": {},
   "outputs": [],
   "source": []
  },
  {
   "cell_type": "markdown",
   "metadata": {},
   "source": [
    "### Data Understanding\n",
    "\n",
    "After considering the business understanding, we want to get familiar with our data.  Write down some steps that you would take to get to know the dataset and identify any quality issues within.  Take time to get to know the dataset and explore what information it contains and how this could be used to inform your business understanding."
   ]
  },
  {
   "cell_type": "code",
   "execution_count": null,
   "metadata": {},
   "outputs": [],
   "source": []
  },
  {
   "cell_type": "markdown",
   "metadata": {},
   "source": [
    "1. Load the dataset into system\n",
    "    - Found some features have and some dont have impact on car price\n",
    "    - Some features are more specific to identify a car itself\n",
    "2. Identify the features that doesn't impact car price and drop those features from the dataset\n",
    "    - Features like id, VIN, region, cylinders, model are good candidates\n",
    "3. Some features have data missing\n",
    "    - If we remove all entries with missing values then we are going to loose a lot of data, so educated choice has to be made \n",
    "4. Price column has outliers i.e. either very low or high values. This kind of data can cause inaccurate model, so this has to handled\n",
    "    - We need to remove outliers\n",
    "6. Choice has to be made whether we need to do state specific analysis\n",
    "    - This can help to come up with accurate model specific to the state, but involves repetition of modelling for each state\n",
    "    - If we make a choice to come up with a general model, then we can remove feature from the dataset"
   ]
  },
  {
   "cell_type": "code",
   "execution_count": null,
   "metadata": {},
   "outputs": [],
   "source": []
  },
  {
   "cell_type": "markdown",
   "metadata": {},
   "source": [
    "### Data Preparation\n",
    "\n",
    "After our initial exploration and fine tuning of the business understanding, it is time to construct our final dataset prior to modeling.  Here, we want to make sure to handle any integrity issues and cleaning, the engineering of new features, any transformations that we believe should happen (scaling, logarithms, normalization, etc.), and general preparation for modeling with `sklearn`. "
   ]
  },
  {
   "cell_type": "code",
   "execution_count": null,
   "metadata": {},
   "outputs": [],
   "source": []
  },
  {
   "cell_type": "markdown",
   "metadata": {},
   "source": [
    "1. Handle Price outliers\n",
    "    - Remove entries where price is less than 1000\n",
    "    - Consider entries with price within 3 times standard deviation\n",
    "2. Handle missing data\n",
    "    - Some features are very critical, so we cannot fill the missing values. We are going remove such entries from the dataset\n",
    "    - Some missing can be logically filled\n",
    "3. Custom logic to fill missing data\n",
    "    - For categorical features like title_status, size, type, drive are filled by random choice of categorical value and maintaining the same probability of value distribution\n",
    "    - For categorical features like fuel, condition, there is no one logic\n",
    "        - For all tesla car, fuel type will be electric\n",
    "        - Cars before 2014 are mostly gas/diesel\n",
    "        - For condition feature, calculate the mean price for each categorical value and compare with price to come up with appropriate value\n",
    "4. Convert categorical values to integers"
   ]
  },
  {
   "cell_type": "code",
   "execution_count": null,
   "metadata": {},
   "outputs": [],
   "source": []
  },
  {
   "cell_type": "markdown",
   "metadata": {},
   "source": [
    "### Modeling\n",
    "\n",
    "With your (almost?) final dataset in hand, it is now time to build some models.  Here, you should build a number of different regression models with the price as the target.  In building your models, you should explore different parameters and be sure to cross-validate your findings."
   ]
  },
  {
   "cell_type": "code",
   "execution_count": null,
   "metadata": {},
   "outputs": [],
   "source": []
  },
  {
   "cell_type": "markdown",
   "metadata": {},
   "source": [
    "1. Below listed regression models are built\n",
    "    - Linear Regression Model\n",
    "    - Ridge Model\n",
    "    - Lasso Model\n",
    "2. GridSearchCV is used to find best parameters\n",
    "    - For Ridge Model, alpha of 0.01 happens to be best parameter\n",
    "3. cross_val_score is used to scoring the model using r2\n",
    "4. permutation_importance is used to identify features importance\n",
    "    - Visualization is built for ease of understanding\n",
    "\n"
   ]
  },
  {
   "cell_type": "code",
   "execution_count": null,
   "metadata": {},
   "outputs": [],
   "source": []
  },
  {
   "cell_type": "markdown",
   "metadata": {},
   "source": [
    "### Evaluation\n",
    "\n",
    "With some modeling accomplished, we aim to reflect on what we identify as a high quality model and what we are able to learn from this.  We should review our business objective and explore how well we can provide meaningful insight on drivers of used car prices.  Your goal now is to distill your findings and determine whether the earlier phases need revisitation and adjustment or if you have information of value to bring back to your client."
   ]
  },
  {
   "cell_type": "code",
   "execution_count": null,
   "metadata": {},
   "outputs": [],
   "source": []
  },
  {
   "cell_type": "markdown",
   "metadata": {},
   "source": [
    "1. To evaluate accuracy of the models, calculated Mean Square Error, R2 regression score\n",
    "2. Since identified high impactful features are categorical, built regression model to identify which among has high impact\n",
    "    - Used Ridge Model\n",
    "    - Modify dataset to contain only high impact features\n",
    "    - Visualization is built for the results \n"
   ]
  },
  {
   "cell_type": "code",
   "execution_count": null,
   "metadata": {},
   "outputs": [],
   "source": []
  },
  {
   "cell_type": "markdown",
   "metadata": {},
   "source": [
    "### Deployment\n",
    "\n",
    "Now that we've settled on our models and findings, it is time to deliver the information to the client.  You should organize your work as a basic report that details your primary findings.  Keep in mind that your audience is a group of used car dealers interested in fine tuning their inventory."
   ]
  },
  {
   "cell_type": "code",
   "execution_count": null,
   "metadata": {},
   "outputs": [],
   "source": []
  },
  {
   "cell_type": "markdown",
   "metadata": {},
   "source": [
    "After all the analysis and modelling found the below top features has impact on car price. All the linear regression models employed resulted with same features. These observations resonates with real world expectations.\n",
    "\n",
    "- Condition (State of the car)\n",
    "- Year (Age of the car)\n",
    "- Type (Car segment)\n",
    "- Manufacturer (Brand matters)\n",
    "     \n",
    "Further analysis and modelling only this top features using ridge model, found R2 score close to zero i.e. there is no linear relationship with individual features. This observation convey that there are multiple features affecting the car price not just one.\n",
    "\n",
    "Car dealership should incorporate these findings when filling their inventories to get better price for the used car."
   ]
  },
  {
   "cell_type": "code",
   "execution_count": null,
   "metadata": {},
   "outputs": [],
   "source": []
  },
  {
   "cell_type": "code",
   "execution_count": null,
   "metadata": {},
   "outputs": [],
   "source": []
  },
  {
   "cell_type": "code",
   "execution_count": null,
   "metadata": {},
   "outputs": [],
   "source": []
  },
  {
   "cell_type": "code",
   "execution_count": null,
   "metadata": {},
   "outputs": [],
   "source": []
  },
  {
   "cell_type": "code",
   "execution_count": null,
   "metadata": {},
   "outputs": [],
   "source": []
  }
 ],
 "metadata": {
  "kernelspec": {
   "display_name": "Python 3 (ipykernel)",
   "language": "python",
   "name": "python3"
  },
  "language_info": {
   "codemirror_mode": {
    "name": "ipython",
    "version": 3
   },
   "file_extension": ".py",
   "mimetype": "text/x-python",
   "name": "python",
   "nbconvert_exporter": "python",
   "pygments_lexer": "ipython3",
   "version": "3.11.7"
  },
  "widgets": {
   "application/vnd.jupyter.widget-state+json": {
    "state": {},
    "version_major": 2,
    "version_minor": 0
   }
  }
 },
 "nbformat": 4,
 "nbformat_minor": 4
}
